{
 "cells": [
  {
   "cell_type": "markdown",
   "metadata": {},
   "source": [
    "<h1><center>WeRateDogs Data Wrangling Report</center></h1>\n",
    "\n",
    "* [WeRateDogs(@dog_rates)](https://twitter.com/dog_rates) Twitter account reviews dog pictures and give them score more than 10/10. It has more than 8 million followers."
   ]
  },
  {
   "cell_type": "markdown",
   "metadata": {},
   "source": [
    "### Data acquisition\n",
    "* I got archived tweets data for WeRateDogs tweets. Using its `tweet_id`, I downloaded detailed data using tweepy. I parsed those JSON responses to get direct retweet counts and likes for each tweet. There is a readily available data for dog breed prediction using image classification. I downloaded that dataset.\n"
   ]
  },
  {
   "cell_type": "markdown",
   "metadata": {},
   "source": [
    "### Data quality issues\n",
    "* My primary concern was about duplicated data, missing data and inappropriate data types. There was no duplicated data. I changed data type of `tweet_id` to string. I converted data type of `timestamp` to datetime.\n",
    "* Further analysis using value_counts() method on `source` column caught my attention. It has only 4 distinct sources of tweets. iPhone, Vine, Web client and TweetDeck. I cleaned that attribute, so that we can observe source easily.\n",
    "* Retweeted post are redundant data, which can cause bias. I removed such records/\n",
    "* Attributes `in_reply_to_status_id`, `in_reply_to_user_id`, `retweeted_status_user_id`, `retweeted_status_timestamp` has missing values more than 92%. So, I decided to drop those attributes.\n",
    "* By conducting visual analysis, I figured out dog names have very strange names like a, an, the, by, not, o, officially, all, just, very, one, quiet, mad, this, my. The main pattern in bad names were all lowercased. I parsed tweet text for such names and replaced with correct names. For the names for which I could not able to find correct name I replaced them with NaN. \n",
    "* With analysis of `rating_denominator` and `rating_numerator` I figured out that original parser only took first patten in consideration. Which caused wrong ratings. For example 9/11, 24/7 are not ratings but parser used it as ratings values. I visually examined bad values and replaced it with correct one."
   ]
  },
  {
   "cell_type": "markdown",
   "metadata": {},
   "source": [
    "### Data structural issues\n",
    "* I combined `doggo`, `floofer`, `puppper`, `puppo` attributes into one attribute called `age_category`. For records with more than one fields set, I introduced new category called 'multiple'. Also, I converted type of `age_category` attribute to category which will reduce memory footprint.\n",
    "* I combined all 3 data source in to one dataframe, which brings all data to form one observational unit."
   ]
  },
  {
   "cell_type": "markdown",
   "metadata": {},
   "source": [
    "### Final cleaned dataset\n",
    "* `twitter_archive_master.csv` contains merged and cleaned data from all 3 sources."
   ]
  }
 ],
 "metadata": {
  "kernelspec": {
   "display_name": "Python 3",
   "language": "python",
   "name": "python3"
  },
  "language_info": {
   "codemirror_mode": {
    "name": "ipython",
    "version": 3
   },
   "file_extension": ".py",
   "mimetype": "text/x-python",
   "name": "python",
   "nbconvert_exporter": "python",
   "pygments_lexer": "ipython3",
   "version": "3.7.1"
  }
 },
 "nbformat": 4,
 "nbformat_minor": 2
}
