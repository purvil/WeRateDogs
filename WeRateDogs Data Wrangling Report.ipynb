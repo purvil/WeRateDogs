{
 "cells": [
  {
   "cell_type": "markdown",
   "metadata": {},
   "source": [
    "<h1><center>WeRateDogs Data Wrangling Report</center></h1>\n",
    "\n",
    "* [WeRateDogs(@dog_rates)](https://twitter.com/dog_rates) Twitter account reviews dog pictures and give them score more than 10/10. It has more than 8 million followers."
   ]
  },
  {
   "cell_type": "markdown",
   "metadata": {},
   "source": [
    "### Data acquisition\n",
    "* I got archived tweets data for WeRateDogs tweets. Using its `tweet_id`, I downloaded detailed data using tweepy. I parsed those JSON responses to get direct retweet counts and likes for each tweet. There is a readily available data for dog breed prediction using image classification. I downloaded that dataset.\n"
   ]
  },
  {
   "cell_type": "markdown",
   "metadata": {},
   "source": [
    "### Data quality issues\n",
    "* My primary concern was about duplicated data, missing data and inappropriate data types. There was no duplicated data. I changed data type of `tweet_id` to string. I converted data type of timestamp and retweeted_status_timestamp to datetime.\n",
    "* Further analysis using value_counts() method on `source` column caught my attention. It has only 4 distinct sources of tweets. IPhone, Vine, Web client and TwetDeck. I cleaned that attribute, so that we can observe source easily.\n",
    "* Attributes `in_reply_to_status_id`, `in_reply_to_user_id`, `retweeted_status_user_id`, `retweeted_status_timestamp` has missing values more than 92%. So, I decided to drop those attributes.\n",
    "* By conducting visual analysis, I figured out dog names have very strange names like a, an, the, by, not, o, officially, all, just, very, one, quiet, mad, this, my. I replaced such names by None.\n",
    "* I combined `doggo`, `floofer`, `puppper`, `puppo` atteributes into one attribute called `age_category`. 14 records have more than one fields set. I decided to remove such records as by doing so we will not loose large amount of data. Also, I converted type of `age_category` attribute to category which will reduce memory foorprint.\n",
    "* With analysis of `rating_denominator` and `rating_numerator` I got 23 records with `rating_denominator` less than 10. I dropped those records, as they are very less compared to our dataset size. `rating_numerator` also have values less than 10 and some outlier on right tail. But I decided to leave them as it is. May be in future we can get more insight to handle it."
   ]
  },
  {
   "cell_type": "markdown",
   "metadata": {},
   "source": [
    "### Data structural issues\n",
    "* `dog_tweets` dataframe comprises two information, data about tweets and data about dog ratings, age category. I created two separate dataframes for dog tweets data and dog ratings data. Also, I merged retweet and likes count data in dog tweets data.\n",
    "* In `dog_prediction` dataframe, column contains variable name like `p1`, `p2`, `p3`. I melted those attributes."
   ]
  },
  {
   "cell_type": "markdown",
   "metadata": {},
   "source": [
    "### Final cleaned dataset\n",
    "* `twitter_archive_master.csv` has data about tweet timestamp, source, text, expanded_urls, retweet and like counts.\n",
    "* `dog_prediction_cleaned.csv` has data about prediction made using image classification\n",
    "* `dog_ratings.csv` has data about dog score, names and age category derived from tweets."
   ]
  }
 ],
 "metadata": {
  "kernelspec": {
   "display_name": "Python 3",
   "language": "python",
   "name": "python3"
  },
  "language_info": {
   "codemirror_mode": {
    "name": "ipython",
    "version": 3
   },
   "file_extension": ".py",
   "mimetype": "text/x-python",
   "name": "python",
   "nbconvert_exporter": "python",
   "pygments_lexer": "ipython3",
   "version": "3.7.1"
  }
 },
 "nbformat": 4,
 "nbformat_minor": 2
}
