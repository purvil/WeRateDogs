{
 "cells": [
  {
   "cell_type": "markdown",
   "metadata": {},
   "source": [
    "<h1><center>WeRateDogs Data Analysis Report</center></h1>\n",
    "\n",
    "* [WeRateDogs(@dog_rates)](https://twitter.com/dog_rates) Twitter account reviews dog pictures and give them score more than 10/10. It has more than 8 million followers."
   ]
  },
  {
   "cell_type": "markdown",
   "metadata": {},
   "source": [
    "* I gathered data from various sources, cleaned it and transformed it to proper format. Dataset comprises various features like ratings of dog images, age category of dog, predicted breed type of dog, retweet count and favorite count of tweets.\n",
    "* Features which caught my attention are distribution of `source`, distribution of `dog stage`, correlation between `retweet_count` and `favorite_count`. I also analyzed performance of neural network model for dog breed classification"
   ]
  },
  {
   "cell_type": "markdown",
   "metadata": {},
   "source": [
    "### `source` distribution\n",
    "* `source` attribute provides information about from where the tweet or retweet is posted. It can be an iPhone, Web client or TweetDeck.\n",
    "![](data/tweet_source_distribution.PNG)\n",
    "\n",
    "* From the bar chart we can see that almost 92% of tweets are from iPhone application. And less than 1% tweets are from TweetDeck. According to this data we can assume that majority of people use iPhone apps to tweet, retweet on Twitter."
   ]
  },
  {
   "cell_type": "markdown",
   "metadata": {},
   "source": [
    "### `age_category` distribution\n",
    "* It has 4 different categories `pupper`: younger dog, `doggo`: adult dog, `puppo`: dog between pupper and doggo, `floofer`: dog with excess fur\n",
    "\n",
    "![](data/dog_stage_distribution.PNG)\n",
    "* From the distribution we can see that majority of images are of pupper. Generally pupper are not matured as doggo. So their behavior seems cute. May be because of that reason people tend to post more pupper photos."
   ]
  },
  {
   "cell_type": "markdown",
   "metadata": {},
   "source": [
    "### Correlation between favorite_count and retweet_count\n",
    "* `favorite_count` is number of likes on the tweet and `retweet_count` is total number of retweets."
   ]
  },
  {
   "cell_type": "markdown",
   "metadata": {},
   "source": [
    "![](data/correlation_favorite_retweet_count.PNG)\n"
   ]
  },
  {
   "cell_type": "markdown",
   "metadata": {},
   "source": [
    "* From the scatter plot we can see the clear positive trend between `favorite_count` and `retweet_count`. Correlation between 2 attribute is 0.93, which shows strong positive correlation. Meaning more re-tweet may be one of the factor for higher number of likes and vice versa."
   ]
  },
  {
   "cell_type": "markdown",
   "metadata": {},
   "source": [
    "### Accuracy of dog breed prediction\n",
    "![](data/first_prediction_conf_dist.PNG)\n",
    "\n",
    "* Figure shows distribution of confidence for the prediction. Majority of the confidence level are under 0.8, which shows the bad accuracy for deep learning model.\n",
    "\n",
    "![](data/first_prediction_accuracy_pie.PNG)\n",
    "\n",
    "* Pie charts represents total true predictions. About 2/3 predictions are correct. Which is again showing low accuracy of neural network model."
   ]
  }
 ],
 "metadata": {
  "kernelspec": {
   "display_name": "Python 3",
   "language": "python",
   "name": "python3"
  },
  "language_info": {
   "codemirror_mode": {
    "name": "ipython",
    "version": 3
   },
   "file_extension": ".py",
   "mimetype": "text/x-python",
   "name": "python",
   "nbconvert_exporter": "python",
   "pygments_lexer": "ipython3",
   "version": "3.7.1"
  }
 },
 "nbformat": 4,
 "nbformat_minor": 2
}
